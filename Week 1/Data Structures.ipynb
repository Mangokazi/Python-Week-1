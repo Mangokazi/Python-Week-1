{
 "cells": [
  {
   "cell_type": "markdown",
   "id": "254eae36-45db-4e99-9526-9c7edfe0d686",
   "metadata": {},
   "source": [
    "Lists"
   ]
  },
  {
   "cell_type": "code",
   "execution_count": 1,
   "id": "deb07d3f-8f7c-435a-9028-1dfb73bb3ad3",
   "metadata": {},
   "outputs": [
    {
     "name": "stdout",
     "output_type": "stream",
     "text": [
      "[1, 2, 3, 4]\n"
     ]
    }
   ],
   "source": [
    "my_list = [1,2,3,4]\n",
    "print(my_list)"
   ]
  },
  {
   "cell_type": "code",
   "execution_count": 2,
   "id": "ff45cb3d-ed47-4956-84fe-7bf40d6f8c03",
   "metadata": {},
   "outputs": [],
   "source": [
    "my_list = [\"list\", \"of\", \"stings\"]"
   ]
  },
  {
   "cell_type": "code",
   "execution_count": 3,
   "id": "ec51dabf-efce-40ea-8591-7bfea0558332",
   "metadata": {},
   "outputs": [],
   "source": [
    "my_list=[1,\"list\", False,[]]"
   ]
  },
  {
   "cell_type": "code",
   "execution_count": 5,
   "id": "281b6889-02b3-4092-aecb-136f6b1cb360",
   "metadata": {},
   "outputs": [],
   "source": [
    "my_list=[[1,2,3],[False,True],[]]"
   ]
  },
  {
   "cell_type": "code",
   "execution_count": 6,
   "id": "bede6f54-2864-48e7-9d03-507de6619ec5",
   "metadata": {},
   "outputs": [
    {
     "data": {
      "text/plain": [
       "3"
      ]
     },
     "execution_count": 6,
     "metadata": {},
     "output_type": "execute_result"
    }
   ],
   "source": [
    "len(my_list)"
   ]
  },
  {
   "cell_type": "markdown",
   "id": "ec7f031b-e6ad-4dab-a19c-8bc9b3ec869a",
   "metadata": {},
   "source": [
    "Sets"
   ]
  },
  {
   "cell_type": "code",
   "execution_count": 7,
   "id": "c641ab4a-944e-46fa-b8a4-4b76e2a560ba",
   "metadata": {},
   "outputs": [
    {
     "name": "stdout",
     "output_type": "stream",
     "text": [
      "{1, 2, 3, 4, 5}\n"
     ]
    }
   ],
   "source": [
    "my_set={1,2,3,4,5}\n",
    "print(my_set)"
   ]
  },
  {
   "cell_type": "code",
   "execution_count": 8,
   "id": "6fd04d26-9db9-4311-bbfd-47c7a783ddeb",
   "metadata": {},
   "outputs": [
    {
     "data": {
      "text/plain": [
       "set"
      ]
     },
     "execution_count": 8,
     "metadata": {},
     "output_type": "execute_result"
    }
   ],
   "source": [
    "type(my_set)"
   ]
  },
  {
   "cell_type": "code",
   "execution_count": 9,
   "id": "a0d4508c-e9f6-4806-9300-00c9ad6dd372",
   "metadata": {},
   "outputs": [
    {
     "data": {
      "text/plain": [
       "5"
      ]
     },
     "execution_count": 9,
     "metadata": {},
     "output_type": "execute_result"
    }
   ],
   "source": [
    "len(my_set)"
   ]
  },
  {
   "cell_type": "code",
   "execution_count": 10,
   "id": "907881b7-6e41-4b85-9817-bab9388e0321",
   "metadata": {},
   "outputs": [
    {
     "name": "stdout",
     "output_type": "stream",
     "text": [
      "{1, 2}\n"
     ]
    }
   ],
   "source": [
    "my_set={1,2,2}\n",
    "len(my_set)\n",
    "print(my_set)"
   ]
  },
  {
   "cell_type": "code",
   "execution_count": null,
   "id": "0053f71b-9dd3-4031-8f7e-5cf40979ee5b",
   "metadata": {},
   "outputs": [],
   "source": []
  }
 ],
 "metadata": {
  "kernelspec": {
   "display_name": "Python 3 (ipykernel)",
   "language": "python",
   "name": "python3"
  },
  "language_info": {
   "codemirror_mode": {
    "name": "ipython",
    "version": 3
   },
   "file_extension": ".py",
   "mimetype": "text/x-python",
   "name": "python",
   "nbconvert_exporter": "python",
   "pygments_lexer": "ipython3",
   "version": "3.12.2"
  }
 },
 "nbformat": 4,
 "nbformat_minor": 5
}
